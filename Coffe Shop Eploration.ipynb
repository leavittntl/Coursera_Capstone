{
 "cells": [
  {
   "cell_type": "markdown",
   "metadata": {},
   "source": [
    "# Coffee Shop exploration (Within NH, VT, and ME)"
   ]
  },
  {
   "cell_type": "markdown",
   "metadata": {},
   "source": [
    "## Idea:\n",
    "I would like to plan a trip that spans across VT, NH, and ME. During this trip, I want to experience the best coffee shops, based on popularity, each state has to offer, within 100,000 meters of each of the three state's capitals. I would also like to run K-means clustering on these coffee shops to check for any segmantations that can be created. With both of these, I feel like I'll be able to map out the best route as I drive across each of the three states."
   ]
  },
  {
   "cell_type": "markdown",
   "metadata": {},
   "source": [
    "## Target Audience:\n",
    "Coffee lovers who travel Northern New England."
   ]
  },
  {
   "cell_type": "markdown",
   "metadata": {},
   "source": [
    "## Problem to solve:\n",
    "Avoid drinking a bad cup of coffee while on vacation."
   ]
  },
  {
   "cell_type": "markdown",
   "metadata": {},
   "source": [
    "---"
   ]
  },
  {
   "cell_type": "markdown",
   "metadata": {},
   "source": [
    "## Process:\n",
    "\n",
    "1)Import all librairs needed:<br>\n"
   ]
  },
  {
   "cell_type": "code",
   "execution_count": null,
   "metadata": {},
   "outputs": [],
   "source": [
    "import pandas as pd\n",
    "import numpy as np\n",
    "\n",
    "#Find latitudinal and longitudinal data for a given location\n",
    "!pip install geopy\n",
    "from geopy.geocoders import Nominatim\n",
    "\n",
    "#--Addtional libraires for mapping:--\n",
    "# Matplotlib and associated plotting modules\n",
    "import matplotlib.cm as cm\n",
    "import matplotlib.colors as colors\n",
    "\n",
    "# import k-means from clustering stage\n",
    "from sklearn.cluster import KMeans\n",
    "\n",
    "!conda install -c conda-forge folium=0.5.0 --yes # uncomment this line if you haven't completed the Foursquare API lab\n",
    "import folium # map rendering library\n",
    "\n",
    "import json # library to handle JSON files\n",
    "\n",
    "#--To communicate with FourSquare API--\n",
    "import requests # library to handle requests\n",
    "from pandas.io.json import json_normalize # tranform JSON file into a pandas dataframe"
   ]
  },
  {
   "cell_type": "markdown",
   "metadata": {},
   "source": [
    "2)Generate map showing all three states, using Nominatim (from geopy.geocoders) to accuire lat and long for the three states, then folium.map to generate a map of these three state capitals. Augusta, ME will be used as the lat and long passed to folium, as it best represents the center of the desired mapping area.<br><br>\n",
    "3)Pull all coffee shops within 100,000 meters of the three state capitals and save each within their own dataframe. Using the FourSquare API \"explore\" endpoint, three requests will be submitted. Each request containing a \"LIMIT\" of 500, with a radius of 100,000 meters, as well as two values for the categoryId parameter '4bf58dd8d48988d1e0931735' (for coffee shops) and '4bf58dd8d48988d16d941735' (for cafes), and finaly the \"sortByPopularity\" will be set you '1'.<br><br>\n",
    "4)Clean out any rows that do not fall within the desired cities.<br><br>\n",
    "5)Take the top row from each of the three cities dataframes and save them to a new dataframe named TopThree_City_df. This will be used to map the top three most popular coffee shops.<br><br>\n",
    "6)Start the K-means process on each of the three original and cleaned dataframes, first by normalizing the data using \"StandardScaler\".<br><br>\n",
    "7)Run the \"KMeans\" function on each dataframe, trying different clusters. Once a desired result is achieved, each cluster will be labeled an mapped. Where each lable will be assigned a unique color, to more easily identify. <br><br>"
   ]
  },
  {
   "cell_type": "code",
   "execution_count": null,
   "metadata": {},
   "outputs": [],
   "source": []
  }
 ],
 "metadata": {
  "kernelspec": {
   "display_name": "Python 3",
   "language": "python",
   "name": "python3"
  },
  "language_info": {
   "codemirror_mode": {
    "name": "ipython",
    "version": 3
   },
   "file_extension": ".py",
   "mimetype": "text/x-python",
   "name": "python",
   "nbconvert_exporter": "python",
   "pygments_lexer": "ipython3",
   "version": "3.8.5"
  }
 },
 "nbformat": 4,
 "nbformat_minor": 4
}
